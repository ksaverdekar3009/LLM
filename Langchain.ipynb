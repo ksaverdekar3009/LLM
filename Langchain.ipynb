{
 "cells": [
  {
   "cell_type": "code",
   "execution_count": 5,
   "id": "23a0f5ee-924c-4490-ad20-4df13e414891",
   "metadata": {},
   "outputs": [
    {
     "name": "stdout",
     "output_type": "stream",
     "text": [
      " \"Rasoi Bazaar\" - This name combines the Hindi word \"Rasoi,\" which means kitchen or place where food is cooked, with \"Bazaar,\" suggesting a vibrant marketplace. It implies an inviting and bustling atmosphere filled with delicious Indian cuisine.\n"
     ]
    }
   ],
   "source": [
    "from langchain_community.llms import Ollama\n",
    "\n",
    "llm = Ollama(model=\"mistral\")\n",
    "response = llm.invoke(\"Suggest a name for an Indian restaurant\")\n",
    "print(response)\n"
   ]
  },
  {
   "cell_type": "code",
   "execution_count": 6,
   "id": "0c6db5be-1136-40fc-a749-5e952ab1e46b",
   "metadata": {},
   "outputs": [],
   "source": [
    "from langchain.prompts import PromptTemplate"
   ]
  },
  {
   "cell_type": "code",
   "execution_count": 9,
   "id": "17b5ff4f-1710-494d-ad34-f1dded939392",
   "metadata": {},
   "outputs": [
    {
     "data": {
      "text/plain": [
       "'I want to open a restaurant for Italian food.Suggest a fency name for this.'"
      ]
     },
     "execution_count": 9,
     "metadata": {},
     "output_type": "execute_result"
    }
   ],
   "source": [
    "prompt_template_name= PromptTemplate(\n",
    "    input_variables = ['cuisine'],\n",
    "    template = \"I want to open a restaurant for {cuisine} food.Suggest a fency name for this.\"\n",
    ")\n",
    "\n",
    "prompt_template_name.format(cuisine='Italian')"
   ]
  },
  {
   "cell_type": "code",
   "execution_count": 8,
   "id": "2051ab28-e60e-495f-b88a-64b637b339be",
   "metadata": {},
   "outputs": [],
   "source": [
    "from langchain.chains import LLMChain"
   ]
  },
  {
   "cell_type": "code",
   "execution_count": 28,
   "id": "312f916b-bc84-4d93-a08e-472927fd42d6",
   "metadata": {},
   "outputs": [
    {
     "data": {
      "text/plain": [
       "{'cuisine': 'American',\n",
       " 'text': ' \"Yankee Doodle Delights: A Symphony of Flavors\"\\n\\nOr, if you prefer something more modern:\\n\\n- All-American Eats\\n- The Star-Spangled Grill\\n- Uncle Sam\\'s Supper Club\\n- Freedom Feast\\n- Red, White & Brew\\n- Americana Bites\\n- The Great American Melting Pot (if it serves a variety of regional dishes)\\n\\nThese names incorporate the American theme while also sounding inviting and upscale. Good luck with your new venture!'}"
      ]
     },
     "execution_count": 28,
     "metadata": {},
     "output_type": "execute_result"
    }
   ],
   "source": [
    "chain = LLMChain(llm=llm,prompt=prompt_template_name)\n",
    "chain.invoke(\"American\")"
   ]
  },
  {
   "cell_type": "code",
   "execution_count": 9,
   "id": "6cda6815-7b93-4d12-86cc-c99ed4c2d192",
   "metadata": {},
   "outputs": [
    {
     "name": "stderr",
     "output_type": "stream",
     "text": [
      "C:\\Users\\krish\\AppData\\Local\\Temp\\ipykernel_4384\\675741518.py:6: LangChainDeprecationWarning: The class `LLMChain` was deprecated in LangChain 0.1.17 and will be removed in 1.0. Use :meth:`~RunnableSequence, e.g., `prompt | llm`` instead.\n",
      "  name_chain = LLMChain(llm=llm,prompt=prompt_template_name)\n"
     ]
    }
   ],
   "source": [
    "prompt_template_name= PromptTemplate(\n",
    "    input_variables = ['cuisine'],\n",
    "    template = \"I want to open a restaurant for {cuisine} food.Suggest a fency name for this.\"\n",
    ")\n",
    "\n",
    "name_chain = LLMChain(llm=llm,prompt=prompt_template_name)\n",
    "\n",
    "prompt_template_items= PromptTemplate(\n",
    "    input_variables = ['restaurant_name'],\n",
    "    template = \"Suggest some menu items for {restaurant_name}.Return it as comma seperated\"\n",
    ")\n",
    "\n",
    "food_items_chain = LLMChain(llm=llm,prompt=prompt_template_items)"
   ]
  },
  {
   "cell_type": "code",
   "execution_count": null,
   "id": "8163e03f-4666-405c-9bb3-23c9daae082c",
   "metadata": {},
   "outputs": [],
   "source": [
    "from langchain.chains import SimpleSequentialChain\n",
    "\n",
    "chain = SimpleSequentialChain(\n",
    "    chains=[name_chain, food_items_chain],\n",
    ")\n",
    "\n",
    "response = chain.invoke(\"Indian\")\n",
    "print(response)"
   ]
  },
  {
   "cell_type": "code",
   "execution_count": null,
   "id": "9bc88131-10e4-4eb6-a57f-17a079792472",
   "metadata": {},
   "outputs": [],
   "source": [
    "from langchain.agents import AgentType, initialize_agent, load_tools\n",
    "from langchain.llms import Ollama\n",
    "\n",
    "tools = load_tools([\"wikipedia\",\"llm-math\"],llm=llm)\n",
    "agent = initilize_agent(\n",
    "    tools,\n",
    "    llm,\n",
    "    agent = AgentType.ZERO_SHOT_REACT_DESCRIPTION\n",
    ")\n",
    "\n",
    "\n",
    "agent.run(\"When was Elon Musk born? What is his age right now?\")"
   ]
  }
 ],
 "metadata": {
  "kernelspec": {
   "display_name": "Python 3 (ipykernel)",
   "language": "python",
   "name": "python3"
  },
  "language_info": {
   "codemirror_mode": {
    "name": "ipython",
    "version": 3
   },
   "file_extension": ".py",
   "mimetype": "text/x-python",
   "name": "python",
   "nbconvert_exporter": "python",
   "pygments_lexer": "ipython3",
   "version": "3.12.1"
  }
 },
 "nbformat": 4,
 "nbformat_minor": 5
}
